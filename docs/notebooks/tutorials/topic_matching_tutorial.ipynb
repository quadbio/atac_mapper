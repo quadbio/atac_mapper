{
 "cells": [
  {
   "cell_type": "markdown",
   "id": "71f50bad",
   "metadata": {},
   "source": [
    "# 1. Topic matching tutorial\n",
    "\n",
    "This notebook demonstrates how to use the topic matching functionality in atac_mapper to infer topic distribution for query data using topic loadings from reference data. Topic modelling of scATAC-seq data could be performed using [cisTopics](https://github.com/aertslab/cisTopic).\n"
   ]
  },
  {
   "cell_type": "code",
   "execution_count": 1,
   "id": "5e7f6445",
   "metadata": {},
   "outputs": [],
   "source": [
    "import pandas as pd\n",
    "from scipy.io import mmread\n",
    "from atac_mapper.topic_matching import TopicMatch"
   ]
  },
  {
   "cell_type": "markdown",
   "id": "8d3a1128",
   "metadata": {},
   "source": [
    "## Load Data\n",
    "\n",
    "We need two main pieces of data:\n",
    "1. **Region-topic matrix** from reference dataset (from [cisTopics](https://github.com/aertslab/cisTopic) analysis). Normally you can find it in `cistopic_obj.selected_model.region_topic`.\n",
    "2. **Query fragment matrix** (regions x cells)\n",
    "\n",
    "The region-topic matrix should contain the topic loadings for each genomic region, typically saved as a TSV file from cisTopics. The query fragment matrix contains accessibility counts for each region in your query cells.\n",
    "\n",
    "💡 **Tip**: Make sure the regions (rows) in both matrices correspond to the same genomic coordinates. You can use tools like [pyranges](https://github.com/biocore-ntnu/pyranges) or [Feature Matrix](https://stuartlab.org/signac/reference/featurematrix) to match region coordinates of query and reference data if needed."
   ]
  },
  {
   "cell_type": "code",
   "execution_count": 5,
   "id": "a816102e",
   "metadata": {},
   "outputs": [
    {
     "name": "stdout",
     "output_type": "stream",
     "text": [
      "Reference shape (regions x topics): (410863, 175)\n",
      "Query shape (regions x cells): (410863, 20)\n"
     ]
    }
   ],
   "source": [
    "# Load reference topic distributions\n",
    "region_topic_df = pd.read_csv(\"../../../../test_data_atac_mapper/cistopic_loading_mannens.tsv\", sep=\"\\t\", index_col=0)\n",
    "\n",
    "# Load query fragment matrix (regions x cells)\n",
    "query_matrix = mmread(\"../../../../test_data_atac_mapper/FM_atlas_test_20_subset.mtx\").tocsr()\n",
    "\n",
    "print(f\"Reference shape (regions x topics): {region_topic_df.shape}\")\n",
    "print(f\"Query shape (regions x cells): {query_matrix.shape}\")"
   ]
  },
  {
   "cell_type": "markdown",
   "id": "7d130775",
   "metadata": {},
   "source": [
    "## Initialize TopicMatch and Run Inference\n",
    "\n",
    "Now we can use the TopicMatch class to infer topic distributions for our query cells. Topic inference implementation was inspired by [lda package](https://lda.readthedocs.io/en/latest/).\n",
    "We highly recommend to allocate as many cores as possible to ensure parallelization, especially for bigger datasets. "
   ]
  },
  {
   "cell_type": "code",
   "execution_count": 6,
   "id": "448edc18",
   "metadata": {},
   "outputs": [
    {
     "name": "stdout",
     "output_type": "stream",
     "text": [
      "Converged after 83 iterations (delta=9.88e-05)\n",
      "Converged after 99 iterations (delta=9.95e-05)\n",
      "Converged after 94 iterations (delta=9.80e-05)\n",
      "Converged after 92 iterations (delta=9.89e-05)\n",
      "Converged after 100 iterations (delta=9.99e-05)\n",
      "\n",
      "First few cells and their topic distributions:\n",
      "         Topic1        Topic2        Topic3        Topic4    Topic5  \\\n",
      "0  2.176386e-08  1.664294e-11  1.746968e-05  1.384006e-13  0.010057   \n",
      "1  7.951094e-03  2.679191e-03  1.049767e-02  5.712014e-03  0.001593   \n",
      "2  2.590506e-12  2.809658e-07  1.422678e-03  1.744847e-10  0.010116   \n",
      "3  3.265713e-02  4.445763e-04  1.816033e-02  6.666232e-05  0.003741   \n",
      "4  2.483622e-04  6.483961e-10  1.280752e-07  6.682240e-03  0.013579   \n",
      "\n",
      "         Topic6        Topic7        Topic8    Topic9       Topic10  ...  \\\n",
      "0  4.184981e-03  7.211357e-07  6.976538e-04  0.021367  1.185928e-18  ...   \n",
      "1  4.078344e-04  6.189188e-03  3.997446e-06  0.012007  1.544286e-04  ...   \n",
      "2  2.267622e-05  1.827246e-10  8.665125e-09  0.004133  6.726061e-08  ...   \n",
      "3  8.255901e-04  2.127160e-02  4.903567e-05  0.000139  2.697414e-04  ...   \n",
      "4  9.846099e-08  1.929619e-03  7.959138e-09  0.011825  1.525845e-05  ...   \n",
      "\n",
      "       Topic166      Topic167      Topic168      Topic169      Topic170  \\\n",
      "0  1.068586e-04  3.056275e-09  2.789160e-07  2.505092e-03  2.192374e-02   \n",
      "1  1.524659e-06  4.767883e-05  1.258490e-04  2.688697e-03  7.104237e-03   \n",
      "2  2.442049e-09  5.490281e-08  5.611078e-03  1.078140e-05  1.511663e-07   \n",
      "3  1.269284e-04  3.616528e-04  1.962602e-05  4.454316e-03  1.635973e-04   \n",
      "4  1.375858e-03  5.869555e-07  1.208770e-10  2.622162e-07  4.487152e-02   \n",
      "\n",
      "       Topic171  Topic172      Topic173      Topic174      Topic175  \n",
      "0  7.841314e-03  0.000003  1.534054e-02  5.845776e-04  2.849854e-10  \n",
      "1  1.539699e-03  0.010355  3.317070e-03  3.018989e-04  1.180509e-03  \n",
      "2  9.212135e-03  0.005072  1.745747e-03  5.427419e-04  5.958500e-06  \n",
      "3  5.033489e-07  0.000102  2.129651e-03  2.848389e-04  4.410671e-08  \n",
      "4  5.865168e-05  0.000008  3.527414e-10  9.215071e-11  2.997555e-05  \n",
      "\n",
      "[5 rows x 175 columns]\n"
     ]
    }
   ],
   "source": [
    "# Initialize topic matcher\n",
    "topic_matcher = TopicMatch(region_topic_df)\n",
    "\n",
    "# Run inference\n",
    "topic_distributions = topic_matcher.infer_topics(\n",
    "    query=query_matrix,\n",
    "    njobs=-1,  # Use all available cores\n",
    "    n_iterations=100,\n",
    "    tol=1e-4,\n",
    ")\n",
    "\n",
    "# Convert to DataFrame for easier inspection\n",
    "results_df = pd.DataFrame(\n",
    "    topic_distributions,\n",
    "    columns=region_topic_df.columns,\n",
    ")\n",
    "\n",
    "print(\"\\nFirst few cells and their topic distributions:\")\n",
    "print(results_df.head())"
   ]
  },
  {
   "cell_type": "markdown",
   "id": "6cb49d0f",
   "metadata": {},
   "source": [
    "## Analyze Results\n",
    "\n",
    "Let's look at some basic statistics of the inferred topic distributions."
   ]
  },
  {
   "cell_type": "code",
   "execution_count": 13,
   "id": "c640b18c",
   "metadata": {},
   "outputs": [
    {
     "name": "stdout",
     "output_type": "stream",
     "text": [
      "Average topic probability per topic:\n",
      "topic_0      0.005722\n",
      "topic_1      0.001145\n",
      "topic_2      0.004587\n",
      "topic_3      0.000797\n",
      "topic_4      0.004191\n",
      "               ...   \n",
      "topic_170    0.003773\n",
      "topic_171    0.002717\n",
      "topic_172    0.008476\n",
      "topic_173    0.003091\n",
      "topic_174    0.005285\n",
      "Length: 175, dtype: float64\n",
      "\n",
      "Most common dominant topic for cells:\n",
      "topic_141    2\n",
      "topic_164    2\n",
      "topic_83     2\n",
      "topic_34     2\n",
      "topic_132    2\n",
      "topic_46     1\n",
      "topic_125    1\n",
      "topic_111    1\n",
      "topic_37     1\n",
      "topic_144    1\n",
      "topic_9      1\n",
      "topic_7      1\n",
      "topic_107    1\n",
      "topic_63     1\n",
      "topic_159    1\n",
      "Name: count, dtype: int64\n"
     ]
    }
   ],
   "source": [
    "# Basic statistics\n",
    "print(\"Average topic probability per topic:\")\n",
    "print(results_df.mean())\n",
    "\n",
    "print(\"\\nMost common dominant topic for cells:\")\n",
    "dominant_topics = results_df.idxmax(axis=1).value_counts()\n",
    "print(dominant_topics)"
   ]
  },
  {
   "cell_type": "code",
   "execution_count": 7,
   "id": "8bfc5745",
   "metadata": {},
   "outputs": [],
   "source": [
    "# Save results to a file\n",
    "results_df.to_csv(\"topic_inference_results.tsv\", index=False, sep=\"\\t\")"
   ]
  },
  {
   "cell_type": "markdown",
   "id": "3ffdead2",
   "metadata": {},
   "source": [
    "This matrix one should save as a layer in query adata to continue with reference matching."
   ]
  }
 ],
 "metadata": {
  "kernelspec": {
   "display_name": "mapper_test",
   "language": "python",
   "name": "python3"
  },
  "language_info": {
   "codemirror_mode": {
    "name": "ipython",
    "version": 3
   },
   "file_extension": ".py",
   "mimetype": "text/x-python",
   "name": "python",
   "nbconvert_exporter": "python",
   "pygments_lexer": "ipython3",
   "version": "3.10.16"
  }
 },
 "nbformat": 4,
 "nbformat_minor": 5
}
